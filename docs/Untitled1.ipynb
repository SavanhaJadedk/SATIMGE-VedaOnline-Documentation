{
 "cells": [
  {
   "cell_type": "markdown",
   "id": "902851f8-b98e-45a3-89b3-0ba2ee0568e0",
   "metadata": {},
   "source": [
    "# New Page"
   ]
  },
  {
   "cell_type": "code",
   "execution_count": null,
   "id": "af716534-0491-42b2-a334-ccdb149e6636",
   "metadata": {},
   "outputs": [],
   "source": []
  }
 ],
 "metadata": {
  "kernelspec": {
   "display_name": "Python 3 (ipykernel)",
   "language": "python",
   "name": "python3"
  },
  "language_info": {
   "codemirror_mode": {
    "name": "ipython",
    "version": 3
   },
   "file_extension": ".py",
   "mimetype": "text/x-python",
   "name": "python",
   "nbconvert_exporter": "python",
   "pygments_lexer": "ipython3",
   "version": "3.11.5"
  }
 },
 "nbformat": 4,
 "nbformat_minor": 5
}
