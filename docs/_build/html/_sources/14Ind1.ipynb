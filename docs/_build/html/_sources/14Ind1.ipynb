{
 "cells": [
  {
   "cell_type": "markdown",
   "id": "b0aebd01-49d0-4908-a154-48d12bcbcfc4",
   "metadata": {
    "editable": true,
    "slideshow": {
     "slide_type": ""
    },
    "tags": []
   },
   "source": [
    "# 14 The Industrial Sector \n",
    " ```{contents}\n",
    "```\n",
    "\n",
    "## 14.1 Modelling Structure\n",
    "\n",
    "Industry modelling in SATIM is generally split into two methodologies; one to represent large facilities and energy-intensive industries, and the second to represent the industries which are generally smaller, more numerous, and spread out across the country. The sub-sectors for these categories are shown in **Table 14.1.1** below.  \n",
    "\n",
    "SATIM **Methodology One** sectors are represented in SATIM by the process technologies specific to those industries, e.g., Blast Furnaces, cement kilns, paper mills, etc., as these technologies are generally well classified by their fuel use, energy intensities, and operations in literature and other public resources, and some data for the local industries in South Africa are published. The driver of these sectors are their specific demand tonnages: e.g., tonnes of cement and steel produced in South Africa. \n",
    "\n",
    "SATIM **Methodology Two** sectors are generally classified by their energy end-use requirements; process heating, pumping, machinery, lighting, and others, based on available literature and ongoing model development, and this is calibrated with South African national energy balance data. \n",
    "\n",
    "### Table 14.1.1: Industry subsectors as defined in SATIM  \n",
    "\n",
    "| **Methodology**     | **Industry Sub-Sector**                            | **Description**                                                                 |\n",
    "|---------------------|----------------------------------------------------|---------------------------------------------------------------------------------|\n",
    "| **Methodology One**  | Large, energy-intensive industries, intensive plants characterised |                                                                                 |\n",
    "|                     | Iron and Steel                                     | All primary, and secondary producers of crude steel, coke production included here (which is sold to chrome industry) |\n",
    "|                     | Ferro Alloys                                        | FerroChrome, and FerroManganese                                                 |\n",
    "|                     | Aluminium                                           | One company and one facility in South Africa: South32’s Hillside smelter near Richard’s Bay. |\n",
    "|                     | Pulp and Paper                                      |                                                                                 |\n",
    "|                     | Non-metallic minerals (NMM)                         | Cement, bricks, lime, glass                                                    |\n",
    "|                     | Platinum Group Metals (PGMs)                        | Includes mining of the ores                                                     |\n",
    "| **Methodology Two**  | More numerous, spread out industries, end-use services characterised |                                                                                 |\n",
    "|                     | Mining                                             | Includes coal mining, excludes: PGM ores.                                        |\n",
    "|                     | Chemicals                                          | This sector captures the energy use for chemicals, including petrochemicals, but not liquid fuels; the subsector is closely linked to, and dominated by, the operations of Sasol – see Appendix B for details on the chemicals sector |\n",
    "|                     | PNFM: Other precious and non-ferrous metals        | Gold, copper, nickel, zinc, and others, excludes PGMs.                          |\n",
    "|                     | Food and Beverages                                  | Processing of agriculture products into food products, includes sugar industry |\n",
    "|                     | General other manufacturing not covered elsewhere  | Production of general other goods (textiles, clothing, pots and pans etc.)      |\n",
    "\n",
    "---\n",
    "\n",
    "The large energy-intensive industries generally are dominated by production processes that are expensive to build and have a long economic life (sometimes 20 years or more). This aspect means these industries generally lock-in the energy usage characteristics going forward, and it also makes fuel (and technology) switching more challenging.  \n",
    "\n",
    "The two main end-uses of energy in the industrial sector are process heat and machinery operation. The latter is almost exclusively powered by electricity, while the former is supplied by several fuel sources including coal, gas, electricity, and liquid fuels. \n",
    "\n",
    "In the future, electricity could be used more for heating requirements than today, especially for low-grade temperature requirements where heat pumps could be deployed to replace thermal fuels. But owing to the economic advantage of thermal fuels like coal, electricity will not easily or quickly replace these in much of low-grade requirements and especially in medium to higher-grade heat demands. Natural Gas could be used more extensively in industry, but this relies on gas infrastructure being developed in South Africa, and this would still need to compete against cheap coal available locally.  \n",
    "\n",
    "Some sectors may see fuel and technology switching such as hydrogen-based Direct Reduction of Iron (DRI) for steel production, and hydrogen derived from electrolysis of water using electricity may provide other high-temperature process demands. However, hydrogen-based technologies are likely to be limited to very few industries like steel, and chemicals, and these switches would require very large investments, and a degree of risk.  \n",
    "\n",
    "Owing to the rapid rise in electricity prices in the last 10 to 15 years in South Africa, industry has undertaken energy efficiency interventions to save costs. With loadshedding in recent years, and now a push for supplying their own power through IPPs, and installed solar PV systems, energy efficiency would be a high priority, low-hanging fruit, for economic reasons. This is likely to continue in the coming years, and should the national grid be transformed with high levels of renewables, energy efficiency deployment would be crucial and potentially offer large returns to industries and help bolster the grid. Energy efficiency improvements are currently captured exogenously in the model, based on data and assumptions on current and future developments implemented by industry.\n"
   ]
  },
  {
   "cell_type": "code",
   "execution_count": null,
   "id": "8e20ebd9-3ce3-4484-93c1-7e1931d1ac78",
   "metadata": {
    "editable": true,
    "slideshow": {
     "slide_type": ""
    },
    "tags": []
   },
   "outputs": [],
   "source": []
  }
 ],
 "metadata": {
  "kernelspec": {
   "display_name": "Python 3 (ipykernel)",
   "language": "python",
   "name": "python3"
  },
  "language_info": {
   "codemirror_mode": {
    "name": "ipython",
    "version": 3
   },
   "file_extension": ".py",
   "mimetype": "text/x-python",
   "name": "python",
   "nbconvert_exporter": "python",
   "pygments_lexer": "ipython3",
   "version": "3.11.5"
  }
 },
 "nbformat": 4,
 "nbformat_minor": 5
}
