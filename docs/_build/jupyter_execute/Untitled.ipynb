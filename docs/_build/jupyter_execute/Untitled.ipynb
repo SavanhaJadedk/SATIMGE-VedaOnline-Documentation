{
 "cells": [
  {
   "cell_type": "markdown",
   "id": "c3f96f8c-b206-4116-8c05-37dc9688b3af",
   "metadata": {},
   "source": [
    "# South Africa's Energy Balance (2017) \n"
   ]
  },
  {
   "cell_type": "code",
   "execution_count": null,
   "id": "1cf0de84-bfd2-459e-a5a0-325dd721781e",
   "metadata": {},
   "outputs": [],
   "source": []
  }
 ],
 "metadata": {
  "kernelspec": {
   "display_name": "Python 3 (ipykernel)",
   "language": "python",
   "name": "python3"
  },
  "language_info": {
   "codemirror_mode": {
    "name": "ipython",
    "version": 3
   },
   "file_extension": ".py",
   "mimetype": "text/x-python",
   "name": "python",
   "nbconvert_exporter": "python",
   "pygments_lexer": "ipython3",
   "version": "3.11.5"
  }
 },
 "nbformat": 4,
 "nbformat_minor": 5
}