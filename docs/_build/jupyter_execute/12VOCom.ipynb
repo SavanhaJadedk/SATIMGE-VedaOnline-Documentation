{
 "cells": [
  {
   "cell_type": "markdown",
   "id": "94ca7087-f1ed-4096-b37f-9d902f2e33f9",
   "metadata": {
    "editable": true,
    "slideshow": {
     "slide_type": ""
    },
    "tags": []
   },
   "source": [
    "# 12 The Commercial Sector \n",
    " ```{contents}\n",
    "```\n",
    "\n",
    "## 12.1 Modelling Structure\n",
    "\n",
    "The commercial buildings sector in SATIM includes wholesale, retail and motor trade services, warehouses and industrial spaces, office buildings, banking facilities, and other non-residential and government spaces including schools, hospitals, hotels, and recreational facilities. Public sector floor area, which primarily serves public services, includes public lighting and water services is also considered.  \n",
    "\n",
    "Commercial sector energy service demand is estimated based on the energy intensity of energy services required as a function of lettable floor area (PJ/m2) and is linked to growth in floor area and improvements in energy efficiency over time. Final energy demand is internally computed within SATIM, factoring in technology efficiency and penetration within the sector, as the model assumes that energy services in new buildings can be delivered more efficiently with newer technologies, while constraints on residual capacity and building design limit the adoption of newer technologies and other improvements in energy efficiency in older buildings.  \n",
    "\n",
    "Energy services are disaggregated into cooling, space heating, cooking, lighting, refrigeration, water heating, public lighting, public water supply, and other appliances. As with the residential sector, end-uses can be represented either by fuel or technology. Technology shares encompass the prevalence, activity levels, and efficiencies of different technology types supplying specific energy services.\n",
    "\n",
    "(include Res and short description/table - start with IEP demand modelling document)"
   ]
  },
  {
   "cell_type": "code",
   "execution_count": 1,
   "id": "6c433c2a-f0e4-4357-af91-99d3c3467d86",
   "metadata": {
    "editable": true,
    "slideshow": {
     "slide_type": ""
    },
    "tags": [
     "hide-input",
     "hide-output"
    ]
   },
   "outputs": [
    {
     "name": "stdout",
     "output_type": "stream",
     "text": [
      "Image saved at C:\\Users\\savan\\SATIMGE-VedaOnline-Documentation\\SATIMGE-VedaOnline-Documentation\\docs\\Images\\com_res_diagram.png\n"
     ]
    }
   ],
   "source": [
    "#Not working yet\n",
    "\n",
    "import openpyxl\n",
    "import matplotlib.pyplot as plt\n",
    "import matplotlib.patches as patches\n",
    "import os\n",
    "\n",
    "# Path to your workbook\n",
    "workbook_path = r\"Resources\\Standardised Workbook Template_References.xlsx\"\n",
    "\n",
    "# Load the workbook and select the sheet\n",
    "wb = openpyxl.load_workbook(workbook_path, data_only=True)\n",
    "sheet = wb[\"RES equip\"]\n",
    "\n",
    "# Define the range to extract (A6:W80)\n",
    "start_row, end_row = 6, 80\n",
    "start_col, end_col = 1, 23  # Columns A (1) to W (23)\n",
    "\n",
    "# Extract data from the specified range and store the borders\n",
    "data = []\n",
    "cell_borders = []\n",
    "\n",
    "for row in sheet.iter_rows(min_row=start_row, max_row=end_row, min_col=start_col, max_col=end_col):\n",
    "    row_data = []\n",
    "    row_borders = []\n",
    "    for cell in row:\n",
    "        row_data.append(cell.value)  # Cell content\n",
    "        row_borders.append(cell.border)  # Cell border info\n",
    "    data.append(row_data)\n",
    "    cell_borders.append(row_borders)\n",
    "\n",
    "# Plot the data as a table using matplotlib\n",
    "fig, ax = plt.subplots(figsize=(12, 8))  # Adjust the figure size as needed\n",
    "ax.axis(\"off\")  # Turn off the axis\n",
    "\n",
    "nrows, ncols = len(data), len(data[0])\n",
    "\n",
    "# Calculate cell width and height based on the number of rows and columns\n",
    "col_width = 1 / ncols\n",
    "row_height = 1 / nrows\n",
    "\n",
    "# Draw cells and text from the Excel sheet\n",
    "for i in range(nrows):\n",
    "    for j in range(ncols):\n",
    "        cell_value = data[i][j]  # Cell text\n",
    "\n",
    "        # Add cell as a rectangle with borders\n",
    "        cell_border = cell_borders[i][j]\n",
    "        left_border = cell_border.left.style is not None\n",
    "        right_border = cell_border.right.style is not None\n",
    "        top_border = cell_border.top.style is not None\n",
    "        bottom_border = cell_border.bottom.style is not None\n",
    "\n",
    "        # Draw the borders manually based on the border style\n",
    "        if left_border:\n",
    "            ax.add_patch(patches.Rectangle((j / ncols, 1 - (i + 1) / nrows), col_width, row_height, linewidth=1, edgecolor='black', facecolor='none'))\n",
    "        if right_border:\n",
    "            ax.add_patch(patches.Rectangle(((j + 1) / ncols, 1 - (i + 1) / nrows), col_width, row_height, linewidth=1, edgecolor='black', facecolor='none'))\n",
    "        if top_border:\n",
    "            ax.add_patch(patches.Rectangle((j / ncols, 1 - i / nrows), col_width, row_height, linewidth=1, edgecolor='black', facecolor='none'))\n",
    "        if bottom_border:\n",
    "            ax.add_patch(patches.Rectangle((j / ncols, 1 - (i + 1) / nrows), col_width, row_height, linewidth=1, edgecolor='black', facecolor='none'))\n",
    "\n",
    "        # Add cell text (if any)\n",
    "        if cell_value:\n",
    "            ax.text(j / ncols + 0.5 / ncols, 1 - (i + 1) / nrows + 0.5 / nrows, str(cell_value), ha='center', va='center', fontsize=8)\n",
    "\n",
    "# Save the diagram as an image\n",
    "output_path = r\"Images\\com_res_diagram.png\"\n",
    "os.makedirs(os.path.dirname(output_path), exist_ok=True)  # Ensure directory exists\n",
    "plt.savefig(output_path, dpi=300, bbox_inches=\"tight\")\n",
    "plt.close()\n",
    "\n",
    "print(f\"Image saved at {os.path.abspath(output_path)}\")\n",
    "\n"
   ]
  },
  {
   "cell_type": "markdown",
   "id": "6c7479a8-b61e-4666-b499-837a393bbe86",
   "metadata": {
    "editable": true,
    "slideshow": {
     "slide_type": ""
    },
    "tags": []
   },
   "source": [
    "### RES Diagram for the Commercial Sector\n",
    "\n",
    "The following diagram represents the RES equipment configuration for the commercial sector:\n",
    "\n",
    "![Commercial RES Diagram](Images/com_res_diagram.png)\n"
   ]
  },
  {
   "cell_type": "code",
   "execution_count": 2,
   "id": "4f3f96a1-ea1f-4f45-9f5e-a3447065903e",
   "metadata": {
    "editable": true,
    "slideshow": {
     "slide_type": ""
    },
    "tags": [
     "hide-input"
    ]
   },
   "outputs": [],
   "source": [
    "import openpyxl\n",
    "\n",
    "# Path to your workbook\n",
    "workbook_path = r\"Resources\\Standardised Workbook Template_References.xlsx\"\n",
    "\n",
    "# Load the workbook and select the sheet\n",
    "wb = openpyxl.load_workbook(workbook_path, data_only=True)\n",
    "sheet = wb['References']  # Access the 'References' sheet\n",
    "\n",
    "# Access the table by its name\n",
    "table = sheet.tables['References_1']\n",
    "\n",
    "# Get the range of the table (this will dynamically adjust if rows or columns are added)\n",
    "table_range = table.ref  # This gives the table's range, e.g., 'A1:D10'\n",
    "\n",
    "# Extract the data from the table range\n",
    "data = []\n",
    "for row in sheet[table_range]:\n",
    "    data_row = [cell.value for cell in row]\n",
    "    data.append(data_row)\n",
    "\n",
    "# Print the imported data\n",
    "#for row in data:\n",
    "    #print(row)\n"
   ]
  },
  {
   "cell_type": "markdown",
   "id": "98e4b5a9-7817-42c0-8104-dda9e6d6acee",
   "metadata": {
    "editable": true,
    "slideshow": {
     "slide_type": ""
    },
    "tags": []
   },
   "source": [
    "## Table x: Key References from the Commercial Sector\n",
    "\n",
    "This table consolidates key references used in the commercial sector modelling. It includes essential data variables, their corresponding values, units, and references, with relevant assumptions and workbook locations. It is designed to ensure transparency and traceability in the analysis.\n"
   ]
  },
  {
   "cell_type": "code",
   "execution_count": 3,
   "id": "a56d694c-b915-46ad-a1b9-32f562d78a8f",
   "metadata": {
    "editable": true,
    "slideshow": {
     "slide_type": ""
    },
    "tags": [
     "hide-input"
    ]
   },
   "outputs": [
    {
     "data": {
      "text/html": [
       "<style type=\"text/css\">\n",
       "#T_95619_row0_col0, #T_95619_row0_col1, #T_95619_row0_col2, #T_95619_row0_col3, #T_95619_row0_col4, #T_95619_row0_col5, #T_95619_row0_col6, #T_95619_row1_col0, #T_95619_row1_col1, #T_95619_row1_col2, #T_95619_row1_col3, #T_95619_row1_col4, #T_95619_row1_col5, #T_95619_row1_col6 {\n",
       "  text-align: left;\n",
       "}\n",
       "</style>\n",
       "<table id=\"T_95619\">\n",
       "  <thead>\n",
       "    <tr>\n",
       "      <th class=\"blank level0\" >&nbsp;</th>\n",
       "      <th id=\"T_95619_level0_col0\" class=\"col_heading level0 col0\" >Description </th>\n",
       "      <th id=\"T_95619_level0_col1\" class=\"col_heading level0 col1\" >Value (Range)</th>\n",
       "      <th id=\"T_95619_level0_col2\" class=\"col_heading level0 col2\" >Unit</th>\n",
       "      <th id=\"T_95619_level0_col3\" class=\"col_heading level0 col3\" >Other dimension</th>\n",
       "      <th id=\"T_95619_level0_col4\" class=\"col_heading level0 col4\" >Reference (Harvard format)</th>\n",
       "      <th id=\"T_95619_level0_col5\" class=\"col_heading level0 col5\" >Notes/Assumptions</th>\n",
       "      <th id=\"T_95619_level0_col6\" class=\"col_heading level0 col6\" >Workbook Location </th>\n",
       "    </tr>\n",
       "  </thead>\n",
       "  <tbody>\n",
       "    <tr>\n",
       "      <th id=\"T_95619_level0_row0\" class=\"row_heading level0 row0\" >0</th>\n",
       "      <td id=\"T_95619_row0_col0\" class=\"data row0 col0\" >Capital cost for retrofitting current existing kilns with CCS capture technology</td>\n",
       "      <td id=\"T_95619_row0_col1\" class=\"data row0 col1\" >Rather link to cells in location. 2017: 2022 ZAR R/kW</td>\n",
       "      <td id=\"T_95619_row0_col2\" class=\"data row0 col2\" >ZAR/t CO2 captured</td>\n",
       "      <td id=\"T_95619_row0_col3\" class=\"data row0 col3\" >By 2030, 2040</td>\n",
       "      <td id=\"T_95619_row0_col4\" class=\"data row0 col4\" >Department of Mineral Resources and Energy (2019). Integrated Resource Plan (IRP2019). [online] Available at: https://www.energy.gov.za/IRP/2019/IRP-2019.pdf </td>\n",
       "      <td id=\"T_95619_row0_col5\" class=\"data row0 col5\" >The capital costs show that to retrofit a 1 Mt cement plant with full oxy-fuel combustion will cost roughly R1.9 billion (2016). Cement Production capacity of 21.5 Mt/year </td>\n",
       "      <td id=\"T_95619_row0_col6\" class=\"data row0 col6\" >SATIMGE_Veda\\VT_REGION1_ELC.xlsx\\ProcDataRECostProfile\\G9-L19</td>\n",
       "    </tr>\n",
       "    <tr>\n",
       "      <th id=\"T_95619_level0_row1\" class=\"row_heading level0 row1\" >1</th>\n",
       "      <td id=\"T_95619_row1_col0\" class=\"data row1 col0\" >Overnight Investment Costs (undiscounted)</td>\n",
       "      <td id=\"T_95619_row1_col1\" class=\"data row1 col1\" >Rather link to cells in location. 2017:  R/kW</td>\n",
       "      <td id=\"T_95619_row1_col2\" class=\"data row1 col2\" >2022 ZAR/kW (AC)</td>\n",
       "      <td id=\"T_95619_row1_col3\" class=\"data row1 col3\" >2017 (base year), 2020, 2025, 2030, 2040, 2050</td>\n",
       "      <td id=\"T_95619_row1_col4\" class=\"data row1 col4\" >Department of Mineral Resources and Energy (2019). Integrated Resource Plan (IRP2019). [online] Available at: https://www.energy.gov.za/IRP/2019/IRP-2019.pdf </td>\n",
       "      <td id=\"T_95619_row1_col5\" class=\"data row1 col5\" >eg. Calculations based on  solar cost data […].</td>\n",
       "      <td id=\"T_95619_row1_col6\" class=\"data row1 col6\" >SATIMGE_Veda\\VT_REGION1_ELC.xlsx\\ProcDataRECostProfile\\G9-L19</td>\n",
       "    </tr>\n",
       "  </tbody>\n",
       "</table>\n"
      ],
      "text/plain": [
       "<pandas.io.formats.style.Styler at 0x199397e3ad0>"
      ]
     },
     "metadata": {},
     "output_type": "display_data"
    }
   ],
   "source": [
    "import openpyxl\n",
    "import pandas as pd\n",
    "from IPython.display import display\n",
    "\n",
    "# Path to your workbook\n",
    "workbook_path = r\"Resources\\Standardised Workbook Template_References.xlsx\"\n",
    "\n",
    "# Load the workbook and select the sheet\n",
    "wb = openpyxl.load_workbook(workbook_path, data_only=True)\n",
    "sheet = wb['References']  # Access the 'References' sheet\n",
    "\n",
    "# Access the table by its name\n",
    "table = sheet.tables['References_1']\n",
    "\n",
    "# Get the range of the table (this will dynamically adjust if rows or columns are added)\n",
    "table_range = table.ref  # This gives the table's range, e.g., 'A1:D10'\n",
    "\n",
    "# Extract the data from the table range\n",
    "data = []\n",
    "for row in sheet[table_range]:\n",
    "    data_row = [cell.value for cell in row]\n",
    "    data.append(data_row)\n",
    "\n",
    "# The first row is the header\n",
    "headers = data[0]\n",
    "\n",
    "# The remaining rows are the data\n",
    "data_without_headers = data[1:]\n",
    "\n",
    "# Convert the data into a pandas DataFrame, using the first row as column headers\n",
    "df = pd.DataFrame(data_without_headers, columns=headers)\n",
    "\n",
    "# Apply left alignment to the entire DataFrame\n",
    "df_style = df.style.set_properties(**{'text-align': 'left'})\n",
    "\n",
    "# Display the DataFrame as a table in Jupyter\n",
    "display(df_style)\n"
   ]
  },
  {
   "cell_type": "markdown",
   "id": "ab38d38f-8f88-4b16-8c94-bfbc94690fab",
   "metadata": {
    "editable": true,
    "slideshow": {
     "slide_type": ""
    },
    "tags": []
   },
   "source": [
    "## 12.2 Attributes in the Commercial Sector\n",
    "\n",
    "For comprehensive descriptions of each attribute, users may consult the *Attribute Master* tab in VedaOnline, which provides expanded definitions and specifications. This resource offers valuable insights into the technical characteristics of each attribute used within the SATIM model and beyond.\n",
    "*Table 12.4: Attributes commonly used in the Commercial Sector*\n",
    "\n",
    "| **Attribute**          | **Description**                                            | **Purpose in Model**                                                | **Units**                    |\n",
    "|------------------------|------------------------------------------------------------|--------------------------------------------------------------------|------------------------------|\n",
    "| **TechName**           | Name of the technology or appliance (e.g., Electric Heater). | Identifies the technology being modeled.                          | N/A                          |\n",
    "| **Comm-IN**            | Incoming commodities or inputs to the technology.         | Represents the resources entering the technology.                 | N/A                          |\n",
    "| **Comm-OUT**           | Outgoing commodities or outputs from the technology.      | Represents the products generated by the technology.              | N/A                          |\n",
    "| **ACT_EFF**            | Activity efficiency of the technology in converting energy. | Indicates how effectively the technology utilizes energy.         | Percentage (%)                |\n",
    "| **NCAP_TLIFE**         | Technical lifetime of the technology.                     | Represents the expected operational lifespan of the technology.    | Years                        |\n",
    "| **PRC_RESID**          | Share of the technology in the residential sector.        | Reflects the market penetration or adoption rate of the technology. | Percentage (%)                |\n",
    "| **INVCOST**            | Investment cost associated with the technology.           | Represents the capital investment required for the technology.    | 2005 mill. R/PJ-a           |\n",
    "| **FIXOM**              | Fixed operation and maintenance cost of the technology.   | Represents the annual fixed costs associated with the technology.  | 2005 mill. R/PJ-a           |\n",
    "| **NCAP_BND~UP ~0**      | Upper capacity bound at the initial period (year 0).      | Sets the initial capacity limits for the technology.              | kW or MW                     |\n",
    "| **FLO_MARK~UP ~(year)**   | Upper bound on the flow of energy for a given year.                | Sets an upper constraint on energy flow from the technology.      | Percentage (%)                |\n",
    "| **FLO_MARK~LO ~(year)**   | Lower bound on the flow of energy for a given year.                | Sets a minimum requirement for energy flow to a market.          | Percentage (%)                |\n"
   ]
  },
  {
   "cell_type": "markdown",
   "id": "5759996e-412a-49e4-b365-dd7f12809c21",
   "metadata": {},
   "source": [
    "### 12.3 Commodities in the Commercial Sector \n",
    "\n",
    "*Table 12.2.1: Output Commodities: Commercial End Uses*\n",
    "| **Commodity Code** | **Description**                                           | **Purpose in Model**                                                 | **Units**        |\n",
    "|--------------------|-----------------------------------------------------------|----------------------------------------------------------------------|------------------|\n",
    "| **CEC**            | Commercial Existing Cooling Demand                         | Represents the energy demand for cooling in existing commercial spaces | PJ                |\n",
    "| **CEH**            | Commercial Existing Heating Demand                         | Captures energy demand for heating in existing commercial environments | PJ                |\n",
    "| **CEK**            | Commercial Existing Cooking Demand                         | Reflects energy demand for culinary activities in existing commercial sectors | PJ          |\n",
    "| **CEL**            | Commercial Existing Lighting Demand                        | Represents the energy demand for artificial lighting in existing commercial environments | PJ          |\n",
    "| **CER**            | Commercial Existing Refrigeration Demand                   | Reflects energy demand for refrigeration processes in existing commercial sectors | PJ          |\n",
    "| **CEW**            | Commercial Existing Water Heating Demand                   | Captures energy demand for water heating applications in existing commercial settings | PJ          |\n",
    "| **CEG**            | Commercial Existing Public Lighting Demand                 | Represents the energy utilized by public lighting in existing commercial areas | PJ                |\n",
    "| **CET**            | Commercial Existing Water System Energy Demand             | Reflects energy demand for operating existing public water utilities  | PJ                |\n",
    "| **CEO**            | Commercial Existing Miscellaneous Energy Demand            | Captures non-specific energy demands arising from diverse existing commercial activities | PJ          |\n",
    "| **CNC**            | Commercial New Cooling Demand                              | Represents the energy demand for cooling in new commercial applications | PJ                |\n",
    "| **CNG**            | Commercial New Public Lighting Demand                      | Reflects energy demand for public lighting systems in new setups | PJ                |\n",
    "| **CNH**            | Commercial New Heating Demand                              | Represents energy demand for space heating in new commercial buildings | PJ                |\n",
    "| **CNK**            | Commercial New Cooking Demand                              | Reflects energy demand for cooking in new commercial buildings   | PJ                |\n",
    "| **CNL**            | Commercial New Lighting Demand                             | Represents energy demand for lighting in new commercial environments | PJ                |\n",
    "| **CNO**            | Commercial New Miscellaneous Energy Demand                 | Captures non-specific energy demands arising from various new commercial activities | PJ          |\n",
    "| **CNR**            | Commercial New Refrigeration Demand                        | Represents energy demand for refrigeration in new commercial sectors | PJ                |\n",
    "| **CNT**            | Commercial New Water System Energy Demand                  | Reflects energy demand for operating new public water systems    | PJ                |\n",
    "| **CNW**            | Commercial New Water Heating Demand                        | Represents energy demand for water heating in new commercial buildings | PJ                |\n"
   ]
  },
  {
   "cell_type": "markdown",
   "id": "80ecb779-a362-4765-92fe-7d6fd0bad7ad",
   "metadata": {},
   "source": [
    "*Table 12.3.2: Input Commodities: Fuel Types*\n",
    "\n",
    "| **Commodity Code** | **Fuel Type**     | **Purpose in Model**                                                                                     | **Unit** |\n",
    "|--------------------|-------------------|-----------------------------------------------------------------------------------------------------------|----------|\n",
    "| **COMCOA**         | Coal              | Represents coal consumption for heating and industrial processes in commercial settings.                   | PJ       |\n",
    "| **COMODS**         | Oil               | Tracks oil consumption for heating and energy production in commercial applications.                       | PJ       |\n",
    "| **COMELC**         | Electricity       | Represents commercial electricity use for lighting, heating, cooling, and equipment.                       | PJ       |\n",
    "| **COMGAS**         | Natural Gas       | Tracks natural gas consumption for heating, cooking, and water heating in commercial facilities.          | PJ       |\n",
    "| **COMOGS**         | Oil (Gasoline)    | Represents gasoline use in commercial transportation and machinery.                                       | PJ       |\n",
    "| **COMOHF**         | Oil (HFO)         | Tracks heavy fuel oil use for heating and industrial processes in commercial settings.                     | PJ       |\n",
    "| **COMOKE**         | Oil (Paraffin)    | Represents paraffin consumption for heating and cooking in commercial operations.                          | PJ       |\n",
    "| **COMOLP**         | Oil (LPG)         | Tracks LPG consumption for cooking and heating in commercial environments.                                 | PJ       |\n"
   ]
  },
  {
   "cell_type": "markdown",
   "id": "b85d3f73-be0b-4b30-be55-b25dd6a3d7a9",
   "metadata": {},
   "source": [
    "## 12.4 Processes in the Commercial Sector\n",
    "In Veda Online, filtering by the following processes in the *Browse* or *Items View* tabs will display the data for the attributes and respective years in section 12.4 below:\n",
    "- FLO_MARK: (description) for years 2017, 2020, 2025, 2030, 2035, 2040, 2045 and 2050.\n",
    "- ACT_EFF: (description) for the base year 2017.\n",
    "- COM_FR (SYS_SubAnnual_Data_L0, SYS_SubAnnual_Data_L1,)\n",
    "- COM_PROJ (BASE & DMD_PRJ)\n",
    "\n",
    "\n",
    "*Table 12.3: Commercial Sector Processes: Technologies*\n",
    "\n",
    "| **Process Code**          | **End Use**           | **Fuel**             | **Technology**        | **Existing/New Technology** | **Purpose in Model**                                                                                     | **Unit** |\n",
    "|---------------------------|-----------------------|----------------------|-----------------------|------------------|-----------------------------------------------------------------------------------------------------------|----------|\n",
    "| **CECELCCEN-E**           | Cooling               | Electricity           | Central Chiller       | Existing         | Represents cooling using an existing central chiller in commercial buildings.                              | PJ       |\n",
    "| **CECELCCEN-N**           | Cooling               | Electricity           | Central Chiller       | New              | Represents cooling using a new central chiller in commercial buildings.                                   | PJ       |\n",
    "| **CECELCCHIL-E**          | Cooling               | Electricity           | Chiller               | Existing         | Tracks cooling processes using an existing chiller in commercial settings.                                 | PJ       |\n",
    "| **CECELCHP-E**            | Cooling               | Electricity           | Heat Pump             | Existing         | Represents cooling using an existing heat pump in commercial applications.                                 | PJ       |\n",
    "| **CECELCHP-N**            | Cooling               | Electricity           | Heat Pump             | New              | Tracks cooling processes using a new heat pump in commercial applications.                                 | PJ       |\n",
    "| **CECELCROOM-E**          | Cooling               | Electricity           | Room Unit             | Existing         | Represents cooling using an existing room unit in commercial buildings.                                    | PJ       |\n",
    "| **CEGELCHAL-E**           | Public Lighting       | Electricity           | High-Pressure Sodium  | Existing         | Tracks public lighting using existing high-pressure sodium (HAL) lamps.                                    | PJ       |\n",
    "| **CEGELCHPM-E**           | Public Lighting       | Electricity           | High-Pressure Mercury  | Existing         | Represents public lighting using existing high-pressure mercury (HPM) lamps.                               | PJ       |\n",
    "| **CEGELCHPS-E**           | Public Lighting       | Electricity           | High-Pressure Sodium  | Existing         | Represents public lighting using existing high-pressure sodium (HPS) lamps.                                 | PJ       |\n",
    "| **CEGELCINC-E**           | Public Lighting       | Electricity           | Incandescent          | Existing         | Represents public lighting using existing incandescent bulbs.                                               | PJ       |\n",
    "| **CEGELCLED-N**           | Public Lighting       | Electricity           | LED                   | New              | Represents public lighting using new LED technology.                                                      | PJ       |\n",
    "| **CEGELCMHL-E**           | Public Lighting       | Electricity           | Metal Halide          | Existing         | Represents public lighting using existing metal halide lamps.                                             | PJ       |\n",
    "| **CEHCOA-E**              | Space Heating         | Coal                  | Coal                  | Existing         | Represents space heating using existing coal technology in commercial buildings.                           | PJ       |\n",
    "| **CEHELC-E**              | Space Heating         | Electricity           | Electric Heater       | Existing         | Represents space heating using existing electric heaters in commercial applications.                       | PJ       |\n",
    "| **CEHELC-N**              | Space Heating         | Electricity           | Electric Heater       | New              | Represents space heating using new electric heaters in commercial applications.                            | PJ       |\n",
    "| **CEHGAS-E**              | Space Heating         | Gas                   | Gas                   | Existing         | Represents space heating using existing gas technology in commercial buildings.                            | PJ       |\n",
    "| **CEHGAS-N**              | Space Heating         | Gas                   | Gas                   | New              | Represents space heating using new gas technology in commercial buildings.                                 | PJ       |\n",
    "| **CEKCOA-E**              | Cooking               | Coal                  | Coal                  | Existing         | Represents cooking using existing coal technology in commercial kitchens.                                  | PJ       |\n",
    "| **CEKELC-E**              | Cooking               | Electricity           | Electric Heater       | Existing         | Represents cooking using existing electric heaters in commercial kitchens.                                 | PJ       |\n",
    "| **CEKOLP-E**              | Cooking               | Oil LPG               | Oil LPG               | Existing         | Represents cooking using existing oil LPG technology in commercial kitchens.                               | PJ       |\n",
    "| **CELELCCFL-E**           | Lighting              | Electricity           | CFL                   | Existing         | Represents lighting using existing compact fluorescent lamps (CFL) in commercial settings.                  | PJ       |\n",
    "| **CELELCFLU-E**           | Lighting              | Electricity           | Fluorescent           | Existing         | Tracks lighting using existing fluorescent lamps in commercial buildings.                                   | PJ       |\n",
    "| **CELELCHAL-E**           | Lighting              | Electricity           | High-Pressure Sodium  | Existing         | Represents lighting using existing high-pressure sodium (HAL) lamps in commercial settings.                 | PJ       |\n",
    "| **CELELCHID-E**           | Lighting              | Electricity           | HID                   | Existing         | Represents lighting using existing high-intensity discharge (HID) lamps in commercial settings.             | PJ       |\n",
    "| **CELELCINC-E**           | Lighting              | Electricity           | Incandescent          | Existing         | Represents lighting using existing incandescent bulbs in commercial applications.                           | PJ       |\n",
    "| **CELELCLED-N**           | Lighting              | Electricity           | LED                   | New              | Represents lighting using new LED technology in commercial settings.                                       | PJ       |\n",
    "| **CEOCOA-E**              | Other                 | Coal                  | Coal                  | Existing         | Represents other energy uses in commercial settings using existing coal technology.                        | PJ       |\n",
    "| **CEOELC-E**              | Other                 | Electricity           | Electric              | Existing         | Represents other energy uses in commercial settings using existing electric technology.                    | PJ       |\n",
    "| **CEOGAS-E**              | Other                 | Gas                   | Gas                   | Existing         | Represents other energy uses in commercial settings using existing gas technology.                         | PJ       |\n",
    "| **CEOODS-E**              | Other                 | Oil Diesel            | Oil Diesel            | Existing         | Represents other energy uses in commercial settings using existing oil diesel technology.                  | PJ       |\n",
    "| **CEOOGS-E**              | Other                 | Oil Gasoline          | Oil Gasoline          | Existing         | Represents other energy uses in commercial settings using existing oil gasoline technology.                | PJ       |\n",
    "| **CEOOHF-E**              | Other                 | Oil HFO              | Oil HFO              | Existing         | Represents other energy uses in commercial settings using existing oil HFO technology.                     | PJ       |\n",
    "| **CEOOKE-E**              | Other                 | Oil Paraffin          | Oil Paraffin          | Existing         | Represents other energy uses in commercial settings using existing oil paraffin technology.                | PJ       |\n",
    "| **CERELC-E**              | Refrigeration         | Electricity           | Electric              | Existing         | Represents refrigeration processes using existing electric technology in commercial applications.            | PJ       |\n",
    "| **CERELC-N**              | Refrigeration         | Electricity           | Electric              | New              | Represents refrigeration processes using new electric technology in commercial applications.                | PJ       |\n",
    "| **CETELC-E**              | Water Heating         | Electricity           | Electric Heater       | Existing         | Represents water heating using existing electric heaters in commercial buildings.                           | PJ       |\n",
    "| **CEWCOA-E**              | Water Heating         | Coal                  | Coal                  | Existing         | Represents water heating processes using existing coal in commercial applications.                          | PJ       |\n",
    "| **CEWELC-E**              | Water Heating         | Electricity           | Electric Heater       | Existing         | Represents water heating using existing electric heaters in commercial applications.                       | PJ       |\n",
    "| **CEWELCHP-N**            | Water Heating         | Electricity           | Heat Pump             | New              | Represents water heating using new heat pump technology in commercial applications.                         | PJ       |\n",
    "| **CEWELC-N**              | Water Heating         | Electricity           | Electric Heater       | New              | Represents water heating using new electric heaters in commercial buildings.                               | PJ       |\n",
    "| **CEWGAS-E**              | Water Heating         | Gas                   | Gas                   | Existing         | Represents water heating using existing gas in commercial applications.                                     | PJ       |\n",
    "| **CEWOKE-E**              | Water Heating         | Oil Paraffin          | Oil Paraffin          | Existing         | Represents water heating using existing oil paraffin in commercial applications.                            | PJ       |\n",
    "| **CEWOLP-E**              | Water Heating         | Oil LPG               | Oil LPG               | Existing         | Represents water heating using existing oil LPG in commercial applications.                                 | PJ       |\n",
    "| **CNCELCCEN-E**           | Cooling               | Electricity           | Central Chiller       | Existing         | Represents cooling using an existing central chiller in commercial buildings.                              | PJ       |\n",
    "| **CNCELCCEN-N**           | Cooling               | Electricity           | Central Chiller       | New              | Represents cooling using a new central chiller in commercial buildings.                                   | PJ       |\n",
    "| **CNCELCCHIL-E**          | Cooling               | Electricity           | Chiller               | Existing         | Tracks cooling processes using an existing chiller in commercial settings.                                 | PJ       |\n",
    "| **CNCELCHP-E**            | Cooling               | Electricity           | Heat Pump             | Existing         | Represents cooling using an existing heat pump in commercial applications.                                 | PJ       |\n",
    "| **CNCELCHP-N**            | Cooling               | Electricity           | Heat Pump             | New              | Tracks cooling processes using a new heat pump in commercial applications.                                 | PJ       |\n",
    "| **CNCELCROOM-E**          | Cooling               | Electricity           | Room Unit             | Existing         | Represents cooling using an existing room unit in commercial buildings.                                    | PJ       |\n",
    "| **CNGELCHAL-E**           | Public Lighting       | Electricity           | High-Pressure Sodium  | Existing         | Tracks public lighting using existing high-pressure sodium (HAL) lamps.                                    | PJ       |\n",
    "| **CNGELCHPM-E**           | Public Lighting       | Electricity           | High-Pressure Mercury  | Existing         | Represents public lighting using existing high-pressure mercury (HPM) lamps.                               | PJ       |\n",
    "| **CNGELCHPS-E**           | Public Lighting       | Electricity           | High-Pressure Sodium  | Existing         | Represents public lighting using existing high-pressure sodium (HPS) lamps.                                 | PJ       |\n",
    "| **CNGELCINC-E**           | Public Lighting       | Electricity           | Incandescent          | Existing         | Represents public lighting using existing incandescent bulbs.                                               | PJ       |\n",
    "| **CNGELCLED-N**           | Public Lighting       | Electricity           | LED                   | New              | Represents public lighting using new LED technology.                                                      | PJ       |\n",
    "| **CNGELCMHL-E**           | Public Lighting       | Electricity           | Metal Halide          | Existing         | Represents public lighting using existing metal halide lamps.                                             | PJ       |\n",
    "| **CNHCOA-E**              | Space Heating         | Coal                  | Coal                  | Existing         | Represents space heating using existing coal technology in commercial buildings.                           | PJ       |\n",
    "| **CNHELC-E**              | Space Heating         | Electricity           | Electric Heater       | Existing         | Represents space heating using existing electric heaters in commercial applications.                       | PJ       |\n",
    "| **CNHELC-N**              | Space Heating         | Electricity           | Electric Heater       | New              | Represents space heating using new electric heaters in commercial applications.                            | PJ       |\n",
    "| **CNHGAS-E**              | Space Heating         | Gas                   | Gas                   | Existing         | Represents space heating using existing gas technology in commercial buildings.                            | PJ       |\n",
    "| **CNHGAS-N**              | Space Heating         | Gas                   | Gas                   | New              | Represents space heating using new gas technology in commercial buildings.                                 | PJ       |\n",
    "| **CNKCOA-E**              | Cooking               | Coal                  | Coal                  | Existing         | Represents cooking using existing coal technology in commercial kitchens.                                  | PJ       |\n",
    "| **CNKELC-E**              | Cooking               | Electricity           | Electric Heater       | Existing         | Represents cooking using existing electric heaters in commercial kitchens.                                 | PJ       |\n",
    "| **CNKOLP-E**              | Cooking               | Oil LPG               | Oil LPG               | Existing         | Represents cooking using existing oil LPG technology in commercial kitchens.                               | PJ       |\n",
    "| **CNLELCCFL-E**           | Lighting              | Electricity           | CFL                   | Existing         | Represents lighting using existing compact fluorescent lamps (CFL) in commercial settings.                  | PJ       |\n",
    "| **CNLELCFLU-E**           | Lighting              | Electricity           | Fluorescent           | Existing         | Tracks lighting using existing fluorescent lamps in commercial buildings.                                   | PJ       |\n",
    "| **CNLELCHAL-E**           | Lighting              | Electricity           | High-Pressure Sodium  | Existing         | Represents lighting using existing high-pressure sodium (HAL) lamps in commercial settings.                 | PJ       |\n",
    "| **CNLELCHID-E**           | Lighting              | Electricity           | HID                   | Existing         | Represents lighting using existing high-intensity discharge (HID) lamps in commercial settings.             | PJ       |\n",
    "| **CNLELCINC-E**           | Lighting              | Electricity           | Incandescent          | Existing         | Represents lighting using existing incandescent bulbs in commercial applications.                           | PJ       |\n",
    "| **CNLELCLED-N**           | Lighting              | Electricity           | LED                   | New              | Represents lighting using new LED technology in commercial settings.                                       | PJ       |\n",
    "| **CNOCOA-E**              | Other                 | Coal                  | Coal                  | Existing         | Represents other energy uses in commercial settings using existing coal technology.                        | PJ       |\n",
    "| **CNOELC-E**              | Other                 | Electricity           | Electric              | Existing         | Represents other energy uses in commercial settings using existing electric technology.                    | PJ       |\n",
    "| **CNOGAS-E**              | Other                 | Gas                   | Gas                   | Existing         | Represents other energy uses in commercial settings using existing gas technology.                         | PJ       |\n",
    "| **CNOODS-E**              | Other                 | Oil Diesel            | Oil Diesel            | Existing         | Represents other energy uses in commercial settings using existing oil diesel technology.                  | PJ       |\n",
    "| **CNOOGS-E**              | Other                 | Oil Gasoline          | Oil Gasoline          | Existing         | Represents other energy uses in commercial settings using existing oil gasoline technology.                | PJ       |\n",
    "| **CNOOHF-E**              | Other                 | Oil HFO              | Oil HFO              | Existing         | Represents other energy uses in commercial settings using existing oil HFO technology.                     | PJ       |\n",
    "| **CNOOKE-E**              | Other                 | Oil Paraffin          | Oil Paraffin          | Existing         | Represents other energy uses in commercial settings using existing oil paraffin technology.                | PJ       |\n",
    "| **CNRELC-E**              | Refrigeration         | Electricity           | Electric              | Existing         | Represents refrigeration processes using existing electric technology in commercial applications.            | PJ       |\n",
    "| **CNRELC-N**              | Refrigeration         | Electricity           | Electric              | New              | Represents refrigeration processes using new electric technology in commercial applications.                | PJ       |\n",
    "| **CNTELC-E**              | Water Heating         | Electricity           | Electric Heater       | Existing         | Represents water heating using existing electric heaters in commercial buildings.                           | PJ       |\n",
    "| **CNWCOA-E**              | Water Heating         | Coal                  | Coal                  | Existing         | Represents water heating processes using existing coal in commercial applications.                          | PJ       |\n",
    "| **CNWELC-E**              | Water Heating         | Electricity           | Electric Heater       | Existing         | Represents water heating using existing electric heaters in commercial applications.                       | PJ       |\n",
    "| **CNWELCHP-N**            | Water Heating         | Electricity           | Heat Pump             | New              | Represents water heating using new heat pump technology in commercial applications.                         | PJ       |\n",
    "| **CNWELC-N**              | Water Heating         | Electricity           | Electric Heater       | New              | Represents water heating using new electric heaters in commercial buildings.                               | PJ       |\n",
    "| **CNWGAS-E**              | Water Heating         | Gas                   | Gas                   | Existing         | Represents water heating using existing gas in commercial applications.                                     | PJ       |\n",
    "| **CNWOKE-E**              | Water Heating         | Oil Paraffin          | Oil Paraffin          | Existing         | Represents water heating using existing oil paraffin in commercial applications.                            | PJ       |\n",
    "| **CNWOLP-E**              | Water Heating         | Oil LPG               | Oil LPG               | Existing         | Represents water heating using existing oil LPG in commercial applications.                                 | PJ       |\n"
   ]
  },
  {
   "cell_type": "code",
   "execution_count": null,
   "id": "6695dc60-cab4-491b-a1ee-5496b96b8706",
   "metadata": {},
   "outputs": [],
   "source": []
  }
 ],
 "metadata": {
  "kernelspec": {
   "display_name": "Python 3 (ipykernel)",
   "language": "python",
   "name": "python3"
  },
  "language_info": {
   "codemirror_mode": {
    "name": "ipython",
    "version": 3
   },
   "file_extension": ".py",
   "mimetype": "text/x-python",
   "name": "python",
   "nbconvert_exporter": "python",
   "pygments_lexer": "ipython3",
   "version": "3.11.5"
  }
 },
 "nbformat": 4,
 "nbformat_minor": 5
}