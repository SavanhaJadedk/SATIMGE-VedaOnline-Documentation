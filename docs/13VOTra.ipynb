{
 "cells": [
  {
   "cell_type": "markdown",
   "id": "e6f1ca5b-7c07-4339-a70f-498ce405501f",
   "metadata": {
    "editable": true,
    "slideshow": {
     "slide_type": ""
    },
    "tags": []
   },
   "source": [
    "# 13 The Transport Sector"
   ]
  },
  {
   "cell_type": "markdown",
   "id": "b6e7fd18-8a4e-4822-bfa0-92922899122b",
   "metadata": {
    "editable": true,
    "slideshow": {
     "slide_type": ""
    },
    "tags": []
   },
   "source": [
    "## 13.1 Modelling Structure\n",
    "\n",
    "The transport sector in SATIM is disaggregated into passenger and freight transport, further split by mode (road or rail). Freight transport is divided by vehicle class (LCVs and HCVs, class 1–9) and fuel type (diesel, petrol, electricity, hydrogen). Freight rail is modeled using a mix of diesel and electricity. Aviation is treated separately, with no distinction between passenger and freight.\n",
    "\n",
    "\n",
    "![Transport Sector](Images\\transport_intro_1.png)\n",
    "##### Figure 13.1: Schematic of the Transport Sector as Modelled in SATIM\n",
    "\n",
    "#### Passenger Transport\n",
    "Passenger road transport is categorized into private and public transport, with vehicle types (e.g., private sedan, minibus, bus) and fuel types. Passenger rail is assumed to be 100% electric. Passenger demand is measured in passenger-kilometres (pkm), defined as one passenger travelling one kilometre. Demand projections are based on economic factors such as GDP and population growth, with assumptions on vehicle ownership, mileage, and occupancy. SATIM determines the optimal fuel type for new vehicle purchases based on demand, updating the country-wide vehicle stock.\n",
    "\n",
    "#### Freight Transport\n",
    "Freight demand is measured in tonne-kilometres (tkm), with road freight divided by vehicle class (LCVs and HCVs). All new rail freight is assumed to be electric. SATIM calculates tkm demand based on tonnage and delivery distance. The optimal fuel mix is determined annually to meet tkm demand.\n",
    "\n",
    "#### Key Variables and Future Trends\n",
    "Key variables include the projected costs of new vehicle technologies (EVs and hydrogen fuel vehicles) and fuel costs for ICE vehicles. High petrol and diesel prices and low-cost electricity accelerate the transition to EVs. By 2050, a significant portion of transport is expected to be electrified, though the role of hydrogen-fuelled vehicles remains uncertain due to early-stage development and lower energy efficiency compared to EVs.\n",
    "\n",
    "#### Public Transport and Behavioural Factors\n",
    "Public transport plays a crucial role in future integrated energy and transport systems. SATIM models public transport use based on time budgets, travel costs, and future electric rail development. The attractiveness of public transport is influenced by the scale-up of services, such as reduced waiting times and improved accessibility. Further behavioral analysis can explore responses to price signals (e.g., capital and fuel costs) and non-price signals (e.g., behavioural nudges), impacting vehicle stocks and transport infrastructure investments. \n",
    "\n",
    "For further details, refer to Ahjum et al. (2020) on transport modeling in SATIM.\n",
    "\n",
    "## Navigating the Trasport Sector with Veda Online\n",
    "### 13.2 Attributes\n",
    "\n",
    "*For comprehensive descriptions of each attribute, users may consult the *Attribute Master* tab in VedaOnline, which provides expanded definitions and specifications. This resource offers valuable insights into the technical characteristics of each attribute used within the SATIM model and beyond.\n",
    "\n",
    "\n",
    "\n",
    "### 13.3 Commodities \n",
    "\n",
    "*Table 13.3.1: Input Commodities: Fuel Types*\n",
    "\n",
    "*Table 13.3.2: Output Commodities: End Uses*\n",
    "\n",
    "### 13.4 Processes \n",
    "\n",
    "*Table 13.4.1: Processes: Vehicle Types*\n"
   ]
  },
  {
   "cell_type": "code",
   "execution_count": null,
   "id": "2c04040f-242c-4820-8777-b0e89f4a3e7b",
   "metadata": {},
   "outputs": [],
   "source": []
  }
 ],
 "metadata": {
  "kernelspec": {
   "display_name": "Python 3 (ipykernel)",
   "language": "python",
   "name": "python3"
  },
  "language_info": {
   "codemirror_mode": {
    "name": "ipython",
    "version": 3
   },
   "file_extension": ".py",
   "mimetype": "text/x-python",
   "name": "python",
   "nbconvert_exporter": "python",
   "pygments_lexer": "ipython3",
   "version": "3.11.5"
  }
 },
 "nbformat": 4,
 "nbformat_minor": 5
}
