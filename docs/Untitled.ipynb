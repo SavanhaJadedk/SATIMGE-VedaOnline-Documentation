{
 "cells": [
  {
   "cell_type": "markdown",
   "id": "e6f1ca5b-7c07-4339-a70f-498ce405501f",
   "metadata": {},
   "source": [
    "# 13 The Transport Sector"
   ]
  },
  {
   "cell_type": "markdown",
   "id": "b6e7fd18-8a4e-4822-bfa0-92922899122b",
   "metadata": {},
   "source": [
    "## Navigating the Trasport Sector with Veda Online\n",
    "\n",
    "### 13.1 Attributes\n",
    "\n",
    "### 13.2 Commodities \n",
    "\n",
    "*Table 13.2.1: Input Commodities: Fuel Types*\n",
    "\n",
    "*Table 13.2.2: Output Commodities: End Uses*\n",
    "\n",
    "### 13.3 Processes \n",
    "\n",
    "*Table 13.3.1: Processes: Vehicle Types*\n"
   ]
  }
 ],
 "metadata": {
  "kernelspec": {
   "display_name": "Python 3 (ipykernel)",
   "language": "python",
   "name": "python3"
  },
  "language_info": {
   "codemirror_mode": {
    "name": "ipython",
    "version": 3
   },
   "file_extension": ".py",
   "mimetype": "text/x-python",
   "name": "python",
   "nbconvert_exporter": "python",
   "pygments_lexer": "ipython3",
   "version": "3.11.5"
  }
 },
 "nbformat": 4,
 "nbformat_minor": 5
}
